{
  "nbformat": 4,
  "nbformat_minor": 0,
  "metadata": {
    "colab": {
      "name": "Tutorial_SVC_Fetal_Health.ipynb",
      "provenance": []
    },
    "kernelspec": {
      "name": "ir",
      "display_name": "R"
    },
    "language_info": {
      "name": "R"
    }
  },
  "cells": [
    {
      "cell_type": "code",
      "execution_count": null,
      "metadata": {
        "colab": {
          "base_uri": "https://localhost:8080/"
        },
        "id": "KBzL2Do_RhG2",
        "outputId": "3638c234-6b0f-41ec-8060-8e3259dc2a36"
      },
      "outputs": [
        {
          "output_type": "stream",
          "name": "stderr",
          "text": [
            "Warning message in system(\"timedatectl\", intern = TRUE):\n",
            "“running command 'timedatectl' had status 1”\n",
            "── \u001b[1mAttaching packages\u001b[22m ─────────────────────────────────────── tidyverse 1.3.1 ──\n",
            "\n",
            "\u001b[32m✔\u001b[39m \u001b[34mggplot2\u001b[39m 3.3.5     \u001b[32m✔\u001b[39m \u001b[34mpurrr  \u001b[39m 0.3.4\n",
            "\u001b[32m✔\u001b[39m \u001b[34mtibble \u001b[39m 3.1.6     \u001b[32m✔\u001b[39m \u001b[34mdplyr  \u001b[39m 1.0.7\n",
            "\u001b[32m✔\u001b[39m \u001b[34mtidyr  \u001b[39m 1.1.4     \u001b[32m✔\u001b[39m \u001b[34mstringr\u001b[39m 1.4.0\n",
            "\u001b[32m✔\u001b[39m \u001b[34mreadr  \u001b[39m 2.1.0     \u001b[32m✔\u001b[39m \u001b[34mforcats\u001b[39m 0.5.1\n",
            "\n",
            "── \u001b[1mConflicts\u001b[22m ────────────────────────────────────────── tidyverse_conflicts() ──\n",
            "\u001b[31m✖\u001b[39m \u001b[34mdplyr\u001b[39m::\u001b[32mfilter()\u001b[39m masks \u001b[34mstats\u001b[39m::filter()\n",
            "\u001b[31m✖\u001b[39m \u001b[34mdplyr\u001b[39m::\u001b[32mlag()\u001b[39m    masks \u001b[34mstats\u001b[39m::lag()\n",
            "\n"
          ]
        }
      ],
      "source": [
        "library(tidyverse)"
      ]
    },
    {
      "cell_type": "code",
      "source": [
        "df <- read_csv('fetal_health.csv')"
      ],
      "metadata": {
        "colab": {
          "base_uri": "https://localhost:8080/"
        },
        "id": "-WxDGaTFRu3Z",
        "outputId": "3bbdbdec-01c2-431c-b01c-756f524b412f"
      },
      "execution_count": null,
      "outputs": [
        {
          "output_type": "stream",
          "name": "stderr",
          "text": [
            "\u001b[1mRows: \u001b[22m\u001b[34m2126\u001b[39m \u001b[1mColumns: \u001b[22m\u001b[34m22\u001b[39m\n",
            "\n",
            "\u001b[36m──\u001b[39m \u001b[1mColumn specification\u001b[22m \u001b[36m────────────────────────────────────────────────────────\u001b[39m\n",
            "\u001b[1mDelimiter:\u001b[22m \",\"\n",
            "\u001b[32mdbl\u001b[39m (22): baseline value, accelerations, fetal_movement, uterine_contraction...\n",
            "\n",
            "\n",
            "\u001b[36mℹ\u001b[39m Use \u001b[30m\u001b[47m\u001b[30m\u001b[47m`spec()`\u001b[47m\u001b[30m\u001b[49m\u001b[39m to retrieve the full column specification for this data.\n",
            "\u001b[36mℹ\u001b[39m Specify the column types or set \u001b[30m\u001b[47m\u001b[30m\u001b[47m`show_col_types = FALSE`\u001b[47m\u001b[30m\u001b[49m\u001b[39m to quiet this message.\n",
            "\n"
          ]
        }
      ]
    },
    {
      "cell_type": "code",
      "source": [
        "head(df)"
      ],
      "metadata": {
        "colab": {
          "base_uri": "https://localhost:8080/",
          "height": 323
        },
        "id": "2PpIi4slSTv3",
        "outputId": "7ced76e8-5758-4f0c-c396-790b9aa71fde"
      },
      "execution_count": null,
      "outputs": [
        {
          "output_type": "display_data",
          "data": {
            "text/plain": [
              "  baseline value accelerations fetal_movement uterine_contractions\n",
              "1 120            0.000         0              0.000               \n",
              "2 132            0.006         0              0.006               \n",
              "3 133            0.003         0              0.008               \n",
              "4 134            0.003         0              0.008               \n",
              "5 132            0.007         0              0.008               \n",
              "6 134            0.001         0              0.010               \n",
              "  light_decelerations severe_decelerations prolongued_decelerations\n",
              "1 0.000               0                    0.000                   \n",
              "2 0.003               0                    0.000                   \n",
              "3 0.003               0                    0.000                   \n",
              "4 0.003               0                    0.000                   \n",
              "5 0.000               0                    0.000                   \n",
              "6 0.009               0                    0.002                   \n",
              "  abnormal_short_term_variability mean_value_of_short_term_variability\n",
              "1 73                              0.5                                 \n",
              "2 17                              2.1                                 \n",
              "3 16                              2.1                                 \n",
              "4 16                              2.4                                 \n",
              "5 16                              2.4                                 \n",
              "6 26                              5.9                                 \n",
              "  percentage_of_time_with_abnormal_long_term_variability ⋯ histogram_min\n",
              "1 43                                                     ⋯ 62           \n",
              "2  0                                                     ⋯ 68           \n",
              "3  0                                                     ⋯ 68           \n",
              "4  0                                                     ⋯ 53           \n",
              "5  0                                                     ⋯ 53           \n",
              "6  0                                                     ⋯ 50           \n",
              "  histogram_max histogram_number_of_peaks histogram_number_of_zeroes\n",
              "1 126            2                        0                         \n",
              "2 198            6                        1                         \n",
              "3 198            5                        1                         \n",
              "4 170           11                        0                         \n",
              "5 170            9                        0                         \n",
              "6 200            5                        3                         \n",
              "  histogram_mode histogram_mean histogram_median histogram_variance\n",
              "1 120            137            121               73               \n",
              "2 141            136            140               12               \n",
              "3 141            135            138               13               \n",
              "4 137            134            137               13               \n",
              "5 137            136            138               11               \n",
              "6  76            107            107              170               \n",
              "  histogram_tendency fetal_health\n",
              "1 1                  2           \n",
              "2 0                  1           \n",
              "3 0                  1           \n",
              "4 1                  1           \n",
              "5 1                  1           \n",
              "6 0                  3           "
            ],
            "text/latex": "A tibble: 6 × 22\n\\begin{tabular}{lllllllllllllllllllll}\n baseline value & accelerations & fetal\\_movement & uterine\\_contractions & light\\_decelerations & severe\\_decelerations & prolongued\\_decelerations & abnormal\\_short\\_term\\_variability & mean\\_value\\_of\\_short\\_term\\_variability & percentage\\_of\\_time\\_with\\_abnormal\\_long\\_term\\_variability & ⋯ & histogram\\_min & histogram\\_max & histogram\\_number\\_of\\_peaks & histogram\\_number\\_of\\_zeroes & histogram\\_mode & histogram\\_mean & histogram\\_median & histogram\\_variance & histogram\\_tendency & fetal\\_health\\\\\n <dbl> & <dbl> & <dbl> & <dbl> & <dbl> & <dbl> & <dbl> & <dbl> & <dbl> & <dbl> & ⋯ & <dbl> & <dbl> & <dbl> & <dbl> & <dbl> & <dbl> & <dbl> & <dbl> & <dbl> & <dbl>\\\\\n\\hline\n\t 120 & 0.000 & 0 & 0.000 & 0.000 & 0 & 0.000 & 73 & 0.5 & 43 & ⋯ & 62 & 126 &  2 & 0 & 120 & 137 & 121 &  73 & 1 & 2\\\\\n\t 132 & 0.006 & 0 & 0.006 & 0.003 & 0 & 0.000 & 17 & 2.1 &  0 & ⋯ & 68 & 198 &  6 & 1 & 141 & 136 & 140 &  12 & 0 & 1\\\\\n\t 133 & 0.003 & 0 & 0.008 & 0.003 & 0 & 0.000 & 16 & 2.1 &  0 & ⋯ & 68 & 198 &  5 & 1 & 141 & 135 & 138 &  13 & 0 & 1\\\\\n\t 134 & 0.003 & 0 & 0.008 & 0.003 & 0 & 0.000 & 16 & 2.4 &  0 & ⋯ & 53 & 170 & 11 & 0 & 137 & 134 & 137 &  13 & 1 & 1\\\\\n\t 132 & 0.007 & 0 & 0.008 & 0.000 & 0 & 0.000 & 16 & 2.4 &  0 & ⋯ & 53 & 170 &  9 & 0 & 137 & 136 & 138 &  11 & 1 & 1\\\\\n\t 134 & 0.001 & 0 & 0.010 & 0.009 & 0 & 0.002 & 26 & 5.9 &  0 & ⋯ & 50 & 200 &  5 & 3 &  76 & 107 & 107 & 170 & 0 & 3\\\\\n\\end{tabular}\n",
            "text/markdown": "\nA tibble: 6 × 22\n\n| baseline value &lt;dbl&gt; | accelerations &lt;dbl&gt; | fetal_movement &lt;dbl&gt; | uterine_contractions &lt;dbl&gt; | light_decelerations &lt;dbl&gt; | severe_decelerations &lt;dbl&gt; | prolongued_decelerations &lt;dbl&gt; | abnormal_short_term_variability &lt;dbl&gt; | mean_value_of_short_term_variability &lt;dbl&gt; | percentage_of_time_with_abnormal_long_term_variability &lt;dbl&gt; | ⋯ ⋯ | histogram_min &lt;dbl&gt; | histogram_max &lt;dbl&gt; | histogram_number_of_peaks &lt;dbl&gt; | histogram_number_of_zeroes &lt;dbl&gt; | histogram_mode &lt;dbl&gt; | histogram_mean &lt;dbl&gt; | histogram_median &lt;dbl&gt; | histogram_variance &lt;dbl&gt; | histogram_tendency &lt;dbl&gt; | fetal_health &lt;dbl&gt; |\n|---|---|---|---|---|---|---|---|---|---|---|---|---|---|---|---|---|---|---|---|---|\n| 120 | 0.000 | 0 | 0.000 | 0.000 | 0 | 0.000 | 73 | 0.5 | 43 | ⋯ | 62 | 126 |  2 | 0 | 120 | 137 | 121 |  73 | 1 | 2 |\n| 132 | 0.006 | 0 | 0.006 | 0.003 | 0 | 0.000 | 17 | 2.1 |  0 | ⋯ | 68 | 198 |  6 | 1 | 141 | 136 | 140 |  12 | 0 | 1 |\n| 133 | 0.003 | 0 | 0.008 | 0.003 | 0 | 0.000 | 16 | 2.1 |  0 | ⋯ | 68 | 198 |  5 | 1 | 141 | 135 | 138 |  13 | 0 | 1 |\n| 134 | 0.003 | 0 | 0.008 | 0.003 | 0 | 0.000 | 16 | 2.4 |  0 | ⋯ | 53 | 170 | 11 | 0 | 137 | 134 | 137 |  13 | 1 | 1 |\n| 132 | 0.007 | 0 | 0.008 | 0.000 | 0 | 0.000 | 16 | 2.4 |  0 | ⋯ | 53 | 170 |  9 | 0 | 137 | 136 | 138 |  11 | 1 | 1 |\n| 134 | 0.001 | 0 | 0.010 | 0.009 | 0 | 0.002 | 26 | 5.9 |  0 | ⋯ | 50 | 200 |  5 | 3 |  76 | 107 | 107 | 170 | 0 | 3 |\n\n",
            "text/html": [
              "<table class=\"dataframe\">\n",
              "<caption>A tibble: 6 × 22</caption>\n",
              "<thead>\n",
              "\t<tr><th scope=col>baseline value</th><th scope=col>accelerations</th><th scope=col>fetal_movement</th><th scope=col>uterine_contractions</th><th scope=col>light_decelerations</th><th scope=col>severe_decelerations</th><th scope=col>prolongued_decelerations</th><th scope=col>abnormal_short_term_variability</th><th scope=col>mean_value_of_short_term_variability</th><th scope=col>percentage_of_time_with_abnormal_long_term_variability</th><th scope=col>⋯</th><th scope=col>histogram_min</th><th scope=col>histogram_max</th><th scope=col>histogram_number_of_peaks</th><th scope=col>histogram_number_of_zeroes</th><th scope=col>histogram_mode</th><th scope=col>histogram_mean</th><th scope=col>histogram_median</th><th scope=col>histogram_variance</th><th scope=col>histogram_tendency</th><th scope=col>fetal_health</th></tr>\n",
              "\t<tr><th scope=col>&lt;dbl&gt;</th><th scope=col>&lt;dbl&gt;</th><th scope=col>&lt;dbl&gt;</th><th scope=col>&lt;dbl&gt;</th><th scope=col>&lt;dbl&gt;</th><th scope=col>&lt;dbl&gt;</th><th scope=col>&lt;dbl&gt;</th><th scope=col>&lt;dbl&gt;</th><th scope=col>&lt;dbl&gt;</th><th scope=col>&lt;dbl&gt;</th><th scope=col>⋯</th><th scope=col>&lt;dbl&gt;</th><th scope=col>&lt;dbl&gt;</th><th scope=col>&lt;dbl&gt;</th><th scope=col>&lt;dbl&gt;</th><th scope=col>&lt;dbl&gt;</th><th scope=col>&lt;dbl&gt;</th><th scope=col>&lt;dbl&gt;</th><th scope=col>&lt;dbl&gt;</th><th scope=col>&lt;dbl&gt;</th><th scope=col>&lt;dbl&gt;</th></tr>\n",
              "</thead>\n",
              "<tbody>\n",
              "\t<tr><td>120</td><td>0.000</td><td>0</td><td>0.000</td><td>0.000</td><td>0</td><td>0.000</td><td>73</td><td>0.5</td><td>43</td><td>⋯</td><td>62</td><td>126</td><td> 2</td><td>0</td><td>120</td><td>137</td><td>121</td><td> 73</td><td>1</td><td>2</td></tr>\n",
              "\t<tr><td>132</td><td>0.006</td><td>0</td><td>0.006</td><td>0.003</td><td>0</td><td>0.000</td><td>17</td><td>2.1</td><td> 0</td><td>⋯</td><td>68</td><td>198</td><td> 6</td><td>1</td><td>141</td><td>136</td><td>140</td><td> 12</td><td>0</td><td>1</td></tr>\n",
              "\t<tr><td>133</td><td>0.003</td><td>0</td><td>0.008</td><td>0.003</td><td>0</td><td>0.000</td><td>16</td><td>2.1</td><td> 0</td><td>⋯</td><td>68</td><td>198</td><td> 5</td><td>1</td><td>141</td><td>135</td><td>138</td><td> 13</td><td>0</td><td>1</td></tr>\n",
              "\t<tr><td>134</td><td>0.003</td><td>0</td><td>0.008</td><td>0.003</td><td>0</td><td>0.000</td><td>16</td><td>2.4</td><td> 0</td><td>⋯</td><td>53</td><td>170</td><td>11</td><td>0</td><td>137</td><td>134</td><td>137</td><td> 13</td><td>1</td><td>1</td></tr>\n",
              "\t<tr><td>132</td><td>0.007</td><td>0</td><td>0.008</td><td>0.000</td><td>0</td><td>0.000</td><td>16</td><td>2.4</td><td> 0</td><td>⋯</td><td>53</td><td>170</td><td> 9</td><td>0</td><td>137</td><td>136</td><td>138</td><td> 11</td><td>1</td><td>1</td></tr>\n",
              "\t<tr><td>134</td><td>0.001</td><td>0</td><td>0.010</td><td>0.009</td><td>0</td><td>0.002</td><td>26</td><td>5.9</td><td> 0</td><td>⋯</td><td>50</td><td>200</td><td> 5</td><td>3</td><td> 76</td><td>107</td><td>107</td><td>170</td><td>0</td><td>3</td></tr>\n",
              "</tbody>\n",
              "</table>\n"
            ]
          },
          "metadata": {}
        }
      ]
    },
    {
      "cell_type": "code",
      "source": [
        "str(df)"
      ],
      "metadata": {
        "colab": {
          "base_uri": "https://localhost:8080/"
        },
        "id": "N1Vlfy7cSXj9",
        "outputId": "a9466441-df96-4ece-902f-332938c2f3bd"
      },
      "execution_count": null,
      "outputs": [
        {
          "output_type": "stream",
          "name": "stdout",
          "text": [
            "spec_tbl_df [2,126 × 22] (S3: spec_tbl_df/tbl_df/tbl/data.frame)\n",
            " $ baseline value                                        : num [1:2126] 120 132 133 134 132 134 134 122 122 122 ...\n",
            " $ accelerations                                         : num [1:2126] 0 0.006 0.003 0.003 0.007 0.001 0.001 0 0 0 ...\n",
            " $ fetal_movement                                        : num [1:2126] 0 0 0 0 0 0 0 0 0 0 ...\n",
            " $ uterine_contractions                                  : num [1:2126] 0 0.006 0.008 0.008 0.008 0.01 0.013 0 0.002 0.003 ...\n",
            " $ light_decelerations                                   : num [1:2126] 0 0.003 0.003 0.003 0 0.009 0.008 0 0 0 ...\n",
            " $ severe_decelerations                                  : num [1:2126] 0 0 0 0 0 0 0 0 0 0 ...\n",
            " $ prolongued_decelerations                              : num [1:2126] 0 0 0 0 0 0.002 0.003 0 0 0 ...\n",
            " $ abnormal_short_term_variability                       : num [1:2126] 73 17 16 16 16 26 29 83 84 86 ...\n",
            " $ mean_value_of_short_term_variability                  : num [1:2126] 0.5 2.1 2.1 2.4 2.4 5.9 6.3 0.5 0.5 0.3 ...\n",
            " $ percentage_of_time_with_abnormal_long_term_variability: num [1:2126] 43 0 0 0 0 0 0 6 5 6 ...\n",
            " $ mean_value_of_long_term_variability                   : num [1:2126] 2.4 10.4 13.4 23 19.9 0 0 15.6 13.6 10.6 ...\n",
            " $ histogram_width                                       : num [1:2126] 64 130 130 117 117 150 150 68 68 68 ...\n",
            " $ histogram_min                                         : num [1:2126] 62 68 68 53 53 50 50 62 62 62 ...\n",
            " $ histogram_max                                         : num [1:2126] 126 198 198 170 170 200 200 130 130 130 ...\n",
            " $ histogram_number_of_peaks                             : num [1:2126] 2 6 5 11 9 5 6 0 0 1 ...\n",
            " $ histogram_number_of_zeroes                            : num [1:2126] 0 1 1 0 0 3 3 0 0 0 ...\n",
            " $ histogram_mode                                        : num [1:2126] 120 141 141 137 137 76 71 122 122 122 ...\n",
            " $ histogram_mean                                        : num [1:2126] 137 136 135 134 136 107 107 122 122 122 ...\n",
            " $ histogram_median                                      : num [1:2126] 121 140 138 137 138 107 106 123 123 123 ...\n",
            " $ histogram_variance                                    : num [1:2126] 73 12 13 13 11 170 215 3 3 1 ...\n",
            " $ histogram_tendency                                    : num [1:2126] 1 0 0 1 1 0 0 1 1 1 ...\n",
            " $ fetal_health                                          : num [1:2126] 2 1 1 1 1 3 3 3 3 3 ...\n",
            " - attr(*, \"spec\")=\n",
            "  .. cols(\n",
            "  ..   `baseline value` = \u001b[32mcol_double()\u001b[39m,\n",
            "  ..   accelerations = \u001b[32mcol_double()\u001b[39m,\n",
            "  ..   fetal_movement = \u001b[32mcol_double()\u001b[39m,\n",
            "  ..   uterine_contractions = \u001b[32mcol_double()\u001b[39m,\n",
            "  ..   light_decelerations = \u001b[32mcol_double()\u001b[39m,\n",
            "  ..   severe_decelerations = \u001b[32mcol_double()\u001b[39m,\n",
            "  ..   prolongued_decelerations = \u001b[32mcol_double()\u001b[39m,\n",
            "  ..   abnormal_short_term_variability = \u001b[32mcol_double()\u001b[39m,\n",
            "  ..   mean_value_of_short_term_variability = \u001b[32mcol_double()\u001b[39m,\n",
            "  ..   percentage_of_time_with_abnormal_long_term_variability = \u001b[32mcol_double()\u001b[39m,\n",
            "  ..   mean_value_of_long_term_variability = \u001b[32mcol_double()\u001b[39m,\n",
            "  ..   histogram_width = \u001b[32mcol_double()\u001b[39m,\n",
            "  ..   histogram_min = \u001b[32mcol_double()\u001b[39m,\n",
            "  ..   histogram_max = \u001b[32mcol_double()\u001b[39m,\n",
            "  ..   histogram_number_of_peaks = \u001b[32mcol_double()\u001b[39m,\n",
            "  ..   histogram_number_of_zeroes = \u001b[32mcol_double()\u001b[39m,\n",
            "  ..   histogram_mode = \u001b[32mcol_double()\u001b[39m,\n",
            "  ..   histogram_mean = \u001b[32mcol_double()\u001b[39m,\n",
            "  ..   histogram_median = \u001b[32mcol_double()\u001b[39m,\n",
            "  ..   histogram_variance = \u001b[32mcol_double()\u001b[39m,\n",
            "  ..   histogram_tendency = \u001b[32mcol_double()\u001b[39m,\n",
            "  ..   fetal_health = \u001b[32mcol_double()\u001b[39m\n",
            "  .. )\n",
            " - attr(*, \"problems\")=<externalptr> \n"
          ]
        }
      ]
    },
    {
      "cell_type": "code",
      "source": [
        "summary(df)"
      ],
      "metadata": {
        "colab": {
          "base_uri": "https://localhost:8080/",
          "height": 989
        },
        "id": "X4HnS-NmSlOc",
        "outputId": "c44b12d6-806a-4777-8e4f-2f624e773c43"
      },
      "execution_count": null,
      "outputs": [
        {
          "output_type": "display_data",
          "data": {
            "text/plain": [
              " baseline value  accelerations      fetal_movement     uterine_contractions\n",
              " Min.   :106.0   Min.   :0.000000   Min.   :0.000000   Min.   :0.000000    \n",
              " 1st Qu.:126.0   1st Qu.:0.000000   1st Qu.:0.000000   1st Qu.:0.002000    \n",
              " Median :133.0   Median :0.002000   Median :0.000000   Median :0.004000    \n",
              " Mean   :133.3   Mean   :0.003178   Mean   :0.009481   Mean   :0.004366    \n",
              " 3rd Qu.:140.0   3rd Qu.:0.006000   3rd Qu.:0.003000   3rd Qu.:0.007000    \n",
              " Max.   :160.0   Max.   :0.019000   Max.   :0.481000   Max.   :0.015000    \n",
              " light_decelerations severe_decelerations prolongued_decelerations\n",
              " Min.   :0.000000    Min.   :0.000e+00    Min.   :0.0000000       \n",
              " 1st Qu.:0.000000    1st Qu.:0.000e+00    1st Qu.:0.0000000       \n",
              " Median :0.000000    Median :0.000e+00    Median :0.0000000       \n",
              " Mean   :0.001889    Mean   :3.293e-06    Mean   :0.0001585       \n",
              " 3rd Qu.:0.003000    3rd Qu.:0.000e+00    3rd Qu.:0.0000000       \n",
              " Max.   :0.015000    Max.   :1.000e-03    Max.   :0.0050000       \n",
              " abnormal_short_term_variability mean_value_of_short_term_variability\n",
              " Min.   :12.00                   Min.   :0.200                       \n",
              " 1st Qu.:32.00                   1st Qu.:0.700                       \n",
              " Median :49.00                   Median :1.200                       \n",
              " Mean   :46.99                   Mean   :1.333                       \n",
              " 3rd Qu.:61.00                   3rd Qu.:1.700                       \n",
              " Max.   :87.00                   Max.   :7.000                       \n",
              " percentage_of_time_with_abnormal_long_term_variability\n",
              " Min.   : 0.000                                        \n",
              " 1st Qu.: 0.000                                        \n",
              " Median : 0.000                                        \n",
              " Mean   : 9.847                                        \n",
              " 3rd Qu.:11.000                                        \n",
              " Max.   :91.000                                        \n",
              " mean_value_of_long_term_variability histogram_width  histogram_min   \n",
              " Min.   : 0.000                      Min.   :  3.00   Min.   : 50.00  \n",
              " 1st Qu.: 4.600                      1st Qu.: 37.00   1st Qu.: 67.00  \n",
              " Median : 7.400                      Median : 67.50   Median : 93.00  \n",
              " Mean   : 8.188                      Mean   : 70.45   Mean   : 93.58  \n",
              " 3rd Qu.:10.800                      3rd Qu.:100.00   3rd Qu.:120.00  \n",
              " Max.   :50.700                      Max.   :180.00   Max.   :159.00  \n",
              " histogram_max histogram_number_of_peaks histogram_number_of_zeroes\n",
              " Min.   :122   Min.   : 0.000            Min.   : 0.0000           \n",
              " 1st Qu.:152   1st Qu.: 2.000            1st Qu.: 0.0000           \n",
              " Median :162   Median : 3.000            Median : 0.0000           \n",
              " Mean   :164   Mean   : 4.068            Mean   : 0.3236           \n",
              " 3rd Qu.:174   3rd Qu.: 6.000            3rd Qu.: 0.0000           \n",
              " Max.   :238   Max.   :18.000            Max.   :10.0000           \n",
              " histogram_mode  histogram_mean  histogram_median histogram_variance\n",
              " Min.   : 60.0   Min.   : 73.0   Min.   : 77.0    Min.   :  0.00    \n",
              " 1st Qu.:129.0   1st Qu.:125.0   1st Qu.:129.0    1st Qu.:  2.00    \n",
              " Median :139.0   Median :136.0   Median :139.0    Median :  7.00    \n",
              " Mean   :137.5   Mean   :134.6   Mean   :138.1    Mean   : 18.81    \n",
              " 3rd Qu.:148.0   3rd Qu.:145.0   3rd Qu.:148.0    3rd Qu.: 24.00    \n",
              " Max.   :187.0   Max.   :182.0   Max.   :186.0    Max.   :269.00    \n",
              " histogram_tendency  fetal_health  \n",
              " Min.   :-1.0000    Min.   :1.000  \n",
              " 1st Qu.: 0.0000    1st Qu.:1.000  \n",
              " Median : 0.0000    Median :1.000  \n",
              " Mean   : 0.3203    Mean   :1.304  \n",
              " 3rd Qu.: 1.0000    3rd Qu.:1.000  \n",
              " Max.   : 1.0000    Max.   :3.000  "
            ]
          },
          "metadata": {}
        }
      ]
    },
    {
      "cell_type": "code",
      "source": [
        "print(cor(df))"
      ],
      "metadata": {
        "colab": {
          "base_uri": "https://localhost:8080/"
        },
        "id": "vWEX4nwcSws5",
        "outputId": "1237793e-e1c4-424b-8f1c-ca242b12fd21"
      },
      "execution_count": null,
      "outputs": [
        {
          "output_type": "stream",
          "name": "stdout",
          "text": [
            "                                                       baseline value\n",
            "baseline value                                            1.000000000\n",
            "accelerations                                            -0.080559728\n",
            "fetal_movement                                           -0.033436480\n",
            "uterine_contractions                                     -0.146373271\n",
            "light_decelerations                                      -0.159031878\n",
            "severe_decelerations                                     -0.053517550\n",
            "prolongued_decelerations                                 -0.104597095\n",
            "abnormal_short_term_variability                           0.305570030\n",
            "mean_value_of_short_term_variability                     -0.279606597\n",
            "percentage_of_time_with_abnormal_long_term_variability    0.285629578\n",
            "mean_value_of_long_term_variability                      -0.032091023\n",
            "histogram_width                                          -0.147678762\n",
            "histogram_min                                             0.361619496\n",
            "histogram_max                                             0.275109794\n",
            "histogram_number_of_peaks                                -0.113933323\n",
            "histogram_number_of_zeroes                               -0.004744583\n",
            "histogram_mode                                            0.708992500\n",
            "histogram_mean                                            0.723121038\n",
            "histogram_median                                          0.789246407\n",
            "histogram_variance                                       -0.133938054\n",
            "histogram_tendency                                        0.293503485\n",
            "fetal_health                                              0.148151127\n",
            "                                                       accelerations\n",
            "baseline value                                          -0.080559728\n",
            "accelerations                                            1.000000000\n",
            "fetal_movement                                           0.048234576\n",
            "uterine_contractions                                     0.089674232\n",
            "light_decelerations                                     -0.108614752\n",
            "severe_decelerations                                    -0.043018117\n",
            "prolongued_decelerations                                -0.127748624\n",
            "abnormal_short_term_variability                         -0.279577473\n",
            "mean_value_of_short_term_variability                     0.207169746\n",
            "percentage_of_time_with_abnormal_long_term_variability  -0.373943010\n",
            "mean_value_of_long_term_variability                     -0.142363119\n",
            "histogram_width                                          0.298631025\n",
            "histogram_min                                           -0.154286330\n",
            "histogram_max                                            0.394146773\n",
            "histogram_number_of_peaks                                0.190451945\n",
            "histogram_number_of_zeroes                              -0.006146567\n",
            "histogram_mode                                           0.243609990\n",
            "histogram_mean                                           0.270334428\n",
            "histogram_median                                         0.272849129\n",
            "histogram_variance                                       0.125703963\n",
            "histogram_tendency                                       0.028419837\n",
            "fetal_health                                            -0.364065793\n",
            "                                                       fetal_movement\n",
            "baseline value                                            -0.03343648\n",
            "accelerations                                              0.04823458\n",
            "fetal_movement                                             1.00000000\n",
            "uterine_contractions                                      -0.06877872\n",
            "light_decelerations                                        0.04922850\n",
            "severe_decelerations                                      -0.01097563\n",
            "prolongued_decelerations                                   0.26592207\n",
            "abnormal_short_term_variability                           -0.10371542\n",
            "mean_value_of_short_term_variability                       0.12131421\n",
            "percentage_of_time_with_abnormal_long_term_variability    -0.07409550\n",
            "mean_value_of_long_term_variability                        0.01104743\n",
            "histogram_width                                            0.16279008\n",
            "histogram_min                                             -0.15391727\n",
            "histogram_max                                              0.09985259\n",
            "histogram_number_of_peaks                                  0.16465407\n",
            "histogram_number_of_zeroes                                -0.01774917\n",
            "histogram_mode                                            -0.06119241\n",
            "histogram_mean                                            -0.08967121\n",
            "histogram_median                                          -0.07232949\n",
            "histogram_variance                                         0.17933965\n",
            "histogram_tendency                                        -0.00154140\n",
            "fetal_health                                               0.08801001\n",
            "                                                       uterine_contractions\n",
            "baseline value                                                 -0.146373271\n",
            "accelerations                                                   0.089674232\n",
            "fetal_movement                                                 -0.068778721\n",
            "uterine_contractions                                            1.000000000\n",
            "light_decelerations                                             0.285079038\n",
            "severe_decelerations                                            0.006788278\n",
            "prolongued_decelerations                                        0.077036104\n",
            "abnormal_short_term_variability                                -0.232810664\n",
            "mean_value_of_short_term_variability                            0.289678600\n",
            "percentage_of_time_with_abnormal_long_term_variability         -0.306607677\n",
            "mean_value_of_long_term_variability                            -0.066058165\n",
            "histogram_width                                                 0.142541039\n",
            "histogram_min                                                  -0.113323117\n",
            "histogram_max                                                   0.122765666\n",
            "histogram_number_of_peaks                                       0.082692963\n",
            "histogram_number_of_zeroes                                      0.057894493\n",
            "histogram_mode                                                 -0.104853944\n",
            "histogram_mean                                                 -0.187504748\n",
            "histogram_median                                               -0.140287407\n",
            "histogram_variance                                              0.238581881\n",
            "histogram_tendency                                             -0.072313551\n",
            "fetal_health                                                   -0.204893721\n",
            "                                                       light_decelerations\n",
            "baseline value                                               -1.590319e-01\n",
            "accelerations                                                -1.086148e-01\n",
            "fetal_movement                                                4.922850e-02\n",
            "uterine_contractions                                          2.850790e-01\n",
            "light_decelerations                                           1.000000e+00\n",
            "severe_decelerations                                          1.075730e-01\n",
            "prolongued_decelerations                                      2.256113e-01\n",
            "abnormal_short_term_variability                              -1.191518e-01\n",
            "mean_value_of_short_term_variability                          5.621699e-01\n",
            "percentage_of_time_with_abnormal_long_term_variability       -2.712825e-01\n",
            "mean_value_of_long_term_variability                          -2.429321e-01\n",
            "histogram_width                                               5.204674e-01\n",
            "histogram_min                                                -5.535336e-01\n",
            "histogram_max                                                 2.180426e-01\n",
            "histogram_number_of_peaks                                     3.976204e-01\n",
            "histogram_number_of_zeroes                                    2.352958e-01\n",
            "histogram_mode                                               -3.472325e-01\n",
            "histogram_mean                                               -5.273544e-01\n",
            "histogram_median                                             -3.885856e-01\n",
            "histogram_variance                                            5.642894e-01\n",
            "histogram_tendency                                            7.161302e-05\n",
            "fetal_health                                                  5.887049e-02\n",
            "                                                       severe_decelerations\n",
            "baseline value                                                 -0.053517550\n",
            "accelerations                                                  -0.043018117\n",
            "fetal_movement                                                 -0.010975631\n",
            "uterine_contractions                                            0.006788278\n",
            "light_decelerations                                             0.107572979\n",
            "severe_decelerations                                            1.000000000\n",
            "prolongued_decelerations                                        0.012395431\n",
            "abnormal_short_term_variability                                 0.033948594\n",
            "mean_value_of_short_term_variability                            0.034129856\n",
            "percentage_of_time_with_abnormal_long_term_variability         -0.030770213\n",
            "mean_value_of_long_term_variability                            -0.037666897\n",
            "histogram_width                                                 0.044879585\n",
            "histogram_min                                                  -0.071973814\n",
            "histogram_max                                                  -0.021134754\n",
            "histogram_number_of_peaks                                       0.007024261\n",
            "histogram_number_of_zeroes                                      0.043441387\n",
            "histogram_mode                                                 -0.215160740\n",
            "histogram_mean                                                 -0.158672869\n",
            "histogram_median                                               -0.160451257\n",
            "histogram_variance                                              0.136420521\n",
            "histogram_tendency                                             -0.070483116\n",
            "fetal_health                                                    0.131934126\n",
            "                                                       prolongued_decelerations\n",
            "baseline value                                                      -0.10459709\n",
            "accelerations                                                       -0.12774862\n",
            "fetal_movement                                                       0.26592207\n",
            "uterine_contractions                                                 0.07703610\n",
            "light_decelerations                                                  0.22561133\n",
            "severe_decelerations                                                 0.01239543\n",
            "prolongued_decelerations                                             1.00000000\n",
            "abnormal_short_term_variability                                      0.04622569\n",
            "mean_value_of_short_term_variability                                 0.26701062\n",
            "percentage_of_time_with_abnormal_long_term_variability              -0.13733337\n",
            "mean_value_of_long_term_variability                                 -0.22651353\n",
            "histogram_width                                                      0.26539100\n",
            "histogram_min                                                       -0.27676450\n",
            "histogram_max                                                        0.12022129\n",
            "histogram_number_of_peaks                                            0.22285969\n",
            "histogram_number_of_zeroes                                           0.05642320\n",
            "histogram_mode                                                      -0.43641595\n",
            "histogram_mean                                                      -0.48866344\n",
            "histogram_median                                                    -0.44477787\n",
            "histogram_variance                                                   0.50330146\n",
            "histogram_tendency                                                  -0.21540452\n",
            "fetal_health                                                         0.48485919\n",
            "                                                       abnormal_short_term_variability\n",
            "baseline value                                                             0.305570030\n",
            "accelerations                                                             -0.279577473\n",
            "fetal_movement                                                            -0.103715419\n",
            "uterine_contractions                                                      -0.232810664\n",
            "light_decelerations                                                       -0.119151839\n",
            "severe_decelerations                                                       0.033948594\n",
            "prolongued_decelerations                                                   0.046225691\n",
            "abnormal_short_term_variability                                            1.000000000\n",
            "mean_value_of_short_term_variability                                      -0.430704976\n",
            "percentage_of_time_with_abnormal_long_term_variability                     0.459412717\n",
            "mean_value_of_long_term_variability                                       -0.315104671\n",
            "histogram_width                                                           -0.260462577\n",
            "histogram_min                                                              0.275377994\n",
            "histogram_max                                                             -0.111806050\n",
            "histogram_number_of_peaks                                                 -0.167561291\n",
            "histogram_number_of_zeroes                                                -0.149296431\n",
            "histogram_mode                                                             0.058363094\n",
            "histogram_mean                                                             0.074553692\n",
            "histogram_median                                                           0.119960169\n",
            "histogram_variance                                                        -0.146433817\n",
            "histogram_tendency                                                        -0.005747923\n",
            "fetal_health                                                               0.471190753\n",
            "                                                       mean_value_of_short_term_variability\n",
            "baseline value                                                                  -0.27960660\n",
            "accelerations                                                                    0.20716975\n",
            "fetal_movement                                                                   0.12131421\n",
            "uterine_contractions                                                             0.28967860\n",
            "light_decelerations                                                              0.56216989\n",
            "severe_decelerations                                                             0.03412986\n",
            "prolongued_decelerations                                                         0.26701062\n",
            "abnormal_short_term_variability                                                 -0.43070498\n",
            "mean_value_of_short_term_variability                                             1.00000000\n",
            "percentage_of_time_with_abnormal_long_term_variability                          -0.47025888\n",
            "mean_value_of_long_term_variability                                              0.07389177\n",
            "histogram_width                                                                  0.66084678\n",
            "histogram_min                                                                   -0.62256925\n",
            "histogram_max                                                                    0.40907212\n",
            "histogram_number_of_peaks                                                        0.50142950\n",
            "histogram_number_of_zeroes                                                       0.26618303\n",
            "histogram_mode                                                                  -0.30758650\n",
            "histogram_mean                                                                  -0.44540138\n",
            "histogram_median                                                                -0.33610928\n",
            "histogram_variance                                                               0.55585244\n",
            "histogram_tendency                                                              -0.06613969\n",
            "fetal_health                                                                    -0.10338212\n",
            "                                                       percentage_of_time_with_abnormal_long_term_variability\n",
            "baseline value                                                                                     0.28562958\n",
            "accelerations                                                                                     -0.37394301\n",
            "fetal_movement                                                                                    -0.07409550\n",
            "uterine_contractions                                                                              -0.30660768\n",
            "light_decelerations                                                                               -0.27128246\n",
            "severe_decelerations                                                                              -0.03077021\n",
            "prolongued_decelerations                                                                          -0.13733337\n",
            "abnormal_short_term_variability                                                                    0.45941272\n",
            "mean_value_of_short_term_variability                                                              -0.47025888\n",
            "percentage_of_time_with_abnormal_long_term_variability                                             1.00000000\n",
            "mean_value_of_long_term_variability                                                               -0.17111405\n",
            "histogram_width                                                                                   -0.45129650\n",
            "histogram_min                                                                                      0.42283438\n",
            "histogram_max                                                                                     -0.28318335\n",
            "histogram_number_of_peaks                                                                         -0.27930068\n",
            "histogram_number_of_zeroes                                                                        -0.12178368\n",
            "histogram_mode                                                                                     0.16521142\n",
            "histogram_mean                                                                                     0.22232062\n",
            "histogram_median                                                                                   0.18648019\n",
            "histogram_variance                                                                                -0.28153615\n",
            "histogram_tendency                                                                                 0.04248124\n",
            "fetal_health                                                                                       0.42614642\n",
            "                                                       mean_value_of_long_term_variability\n",
            "baseline value                                                                -0.032091023\n",
            "accelerations                                                                 -0.142363119\n",
            "fetal_movement                                                                 0.011047430\n",
            "uterine_contractions                                                          -0.066058165\n",
            "light_decelerations                                                           -0.242932065\n",
            "severe_decelerations                                                          -0.037666897\n",
            "prolongued_decelerations                                                      -0.226513529\n",
            "abnormal_short_term_variability                                               -0.315104671\n",
            "mean_value_of_short_term_variability                                           0.073891775\n",
            "percentage_of_time_with_abnormal_long_term_variability                        -0.171114053\n",
            "mean_value_of_long_term_variability                                            1.000000000\n",
            "histogram_width                                                                0.110942057\n",
            "histogram_min                                                                 -0.144976343\n",
            "histogram_max                                                                  0.002022563\n",
            "histogram_number_of_peaks                                                      0.056357459\n",
            "histogram_number_of_zeroes                                                     0.123869099\n",
            "histogram_mode                                                                 0.072070968\n",
            "histogram_mean                                                                 0.137813332\n",
            "histogram_median                                                               0.063227533\n",
            "histogram_variance                                                            -0.164079171\n",
            "histogram_tendency                                                             0.153092953\n",
            "fetal_health                                                                  -0.226797065\n",
            "                                                       histogram_width\n",
            "baseline value                                             -0.14767876\n",
            "accelerations                                               0.29863103\n",
            "fetal_movement                                              0.16279008\n",
            "uterine_contractions                                        0.14254104\n",
            "light_decelerations                                         0.52046737\n",
            "severe_decelerations                                        0.04487958\n",
            "prolongued_decelerations                                    0.26539100\n",
            "abnormal_short_term_variability                            -0.26046258\n",
            "mean_value_of_short_term_variability                        0.66084678\n",
            "percentage_of_time_with_abnormal_long_term_variability     -0.45129650\n",
            "mean_value_of_long_term_variability                         0.11094206\n",
            "histogram_width                                             1.00000000\n",
            "histogram_min                                              -0.89851896\n",
            "histogram_max                                               0.69076879\n",
            "histogram_number_of_peaks                                   0.74707094\n",
            "histogram_number_of_zeroes                                  0.31727611\n",
            "histogram_mode                                             -0.15926065\n",
            "histogram_mean                                             -0.28084632\n",
            "histogram_median                                           -0.16885434\n",
            "histogram_variance                                          0.61588381\n",
            "histogram_tendency                                          0.11815183\n",
            "fetal_health                                               -0.06878876\n",
            "                                                       histogram_min\n",
            "baseline value                                            0.36161950\n",
            "accelerations                                            -0.15428633\n",
            "fetal_movement                                           -0.15391727\n",
            "uterine_contractions                                     -0.11332312\n",
            "light_decelerations                                      -0.55353359\n",
            "severe_decelerations                                     -0.07197381\n",
            "prolongued_decelerations                                 -0.27676450\n",
            "abnormal_short_term_variability                           0.27537799\n",
            "mean_value_of_short_term_variability                     -0.62256925\n",
            "percentage_of_time_with_abnormal_long_term_variability    0.42283438\n",
            "mean_value_of_long_term_variability                      -0.14497634\n",
            "histogram_width                                          -0.89851896\n",
            "histogram_min                                             1.00000000\n",
            "histogram_max                                            -0.30328584\n",
            "histogram_number_of_peaks                                -0.67028685\n",
            "histogram_number_of_zeroes                               -0.30656707\n",
            "histogram_mode                                            0.35306685\n",
            "histogram_mean                                            0.48612117\n",
            "histogram_median                                          0.40019105\n",
            "histogram_variance                                       -0.54509064\n",
            "histogram_tendency                                       -0.24257913\n",
            "fetal_health                                              0.06317491\n",
            "                                                       histogram_max\n",
            "baseline value                                           0.275109794\n",
            "accelerations                                            0.394146773\n",
            "fetal_movement                                           0.099852590\n",
            "uterine_contractions                                     0.122765666\n",
            "light_decelerations                                      0.218042634\n",
            "severe_decelerations                                    -0.021134754\n",
            "prolongued_decelerations                                 0.120221292\n",
            "abnormal_short_term_variability                         -0.111806050\n",
            "mean_value_of_short_term_variability                     0.409072124\n",
            "percentage_of_time_with_abnormal_long_term_variability  -0.283183354\n",
            "mean_value_of_long_term_variability                      0.002022563\n",
            "histogram_width                                          0.690768790\n",
            "histogram_min                                           -0.303285839\n",
            "histogram_max                                            1.000000000\n",
            "histogram_number_of_peaks                                0.517652125\n",
            "histogram_number_of_zeroes                               0.183765568\n",
            "histogram_mode                                           0.235877114\n",
            "histogram_mean                                           0.191108278\n",
            "histogram_median                                         0.292679501\n",
            "histogram_variance                                       0.439094134\n",
            "histogram_tendency                                      -0.143110677\n",
            "fetal_health                                            -0.045265367\n",
            "                                                       histogram_number_of_peaks\n",
            "baseline value                                                      -0.113933323\n",
            "accelerations                                                        0.190451945\n",
            "fetal_movement                                                       0.164654071\n",
            "uterine_contractions                                                 0.082692963\n",
            "light_decelerations                                                  0.397620358\n",
            "severe_decelerations                                                 0.007024261\n",
            "prolongued_decelerations                                             0.222859690\n",
            "abnormal_short_term_variability                                     -0.167561291\n",
            "mean_value_of_short_term_variability                                 0.501429501\n",
            "percentage_of_time_with_abnormal_long_term_variability              -0.279300683\n",
            "mean_value_of_long_term_variability                                  0.056357459\n",
            "histogram_width                                                      0.747070940\n",
            "histogram_min                                                       -0.670286852\n",
            "histogram_max                                                        0.517652125\n",
            "histogram_number_of_peaks                                            1.000000000\n",
            "histogram_number_of_zeroes                                           0.288592536\n",
            "histogram_mode                                                      -0.100123321\n",
            "histogram_mean                                                      -0.217242336\n",
            "histogram_median                                                    -0.122844095\n",
            "histogram_variance                                                   0.454353980\n",
            "histogram_tendency                                                   0.110114103\n",
            "fetal_health                                                        -0.023665952\n",
            "                                                       histogram_number_of_zeroes\n",
            "baseline value                                                       -0.004744583\n",
            "accelerations                                                        -0.006146567\n",
            "fetal_movement                                                       -0.017749174\n",
            "uterine_contractions                                                  0.057894493\n",
            "light_decelerations                                                   0.235295786\n",
            "severe_decelerations                                                  0.043441387\n",
            "prolongued_decelerations                                              0.056423204\n",
            "abnormal_short_term_variability                                      -0.149296431\n",
            "mean_value_of_short_term_variability                                  0.266183026\n",
            "percentage_of_time_with_abnormal_long_term_variability               -0.121783680\n",
            "mean_value_of_long_term_variability                                   0.123869099\n",
            "histogram_width                                                       0.317276110\n",
            "histogram_min                                                        -0.306567072\n",
            "histogram_max                                                         0.183765568\n",
            "histogram_number_of_peaks                                             0.288592536\n",
            "histogram_number_of_zeroes                                            1.000000000\n",
            "histogram_mode                                                       -0.057978109\n",
            "histogram_mean                                                       -0.084417291\n",
            "histogram_median                                                     -0.052896401\n",
            "histogram_variance                                                    0.196746881\n",
            "histogram_tendency                                                    0.084694222\n",
            "fetal_health                                                         -0.016681812\n",
            "                                                       histogram_mode\n",
            "baseline value                                             0.70899250\n",
            "accelerations                                              0.24360999\n",
            "fetal_movement                                            -0.06119241\n",
            "uterine_contractions                                      -0.10485394\n",
            "light_decelerations                                       -0.34723254\n",
            "severe_decelerations                                      -0.21516074\n",
            "prolongued_decelerations                                  -0.43641595\n",
            "abnormal_short_term_variability                            0.05836309\n",
            "mean_value_of_short_term_variability                      -0.30758650\n",
            "percentage_of_time_with_abnormal_long_term_variability     0.16521142\n",
            "mean_value_of_long_term_variability                        0.07207097\n",
            "histogram_width                                           -0.15926065\n",
            "histogram_min                                              0.35306685\n",
            "histogram_max                                              0.23587711\n",
            "histogram_number_of_peaks                                 -0.10012332\n",
            "histogram_number_of_zeroes                                -0.05797811\n",
            "histogram_mode                                             1.00000000\n",
            "histogram_mean                                             0.89341238\n",
            "histogram_median                                           0.93339916\n",
            "histogram_variance                                        -0.31276475\n",
            "histogram_tendency                                         0.41556388\n",
            "fetal_health                                              -0.25041181\n",
            "                                                       histogram_mean\n",
            "baseline value                                             0.72312104\n",
            "accelerations                                              0.27033443\n",
            "fetal_movement                                            -0.08967121\n",
            "uterine_contractions                                      -0.18750475\n",
            "light_decelerations                                       -0.52735437\n",
            "severe_decelerations                                      -0.15867287\n",
            "prolongued_decelerations                                  -0.48866344\n",
            "abnormal_short_term_variability                            0.07455369\n",
            "mean_value_of_short_term_variability                      -0.44540138\n",
            "percentage_of_time_with_abnormal_long_term_variability     0.22232062\n",
            "mean_value_of_long_term_variability                        0.13781333\n",
            "histogram_width                                           -0.28084632\n",
            "histogram_min                                              0.48612117\n",
            "histogram_max                                              0.19110828\n",
            "histogram_number_of_peaks                                 -0.21724234\n",
            "histogram_number_of_zeroes                                -0.08441729\n",
            "histogram_mode                                             0.89341238\n",
            "histogram_mean                                             1.00000000\n",
            "histogram_median                                           0.94825134\n",
            "histogram_variance                                        -0.39942323\n",
            "histogram_tendency                                         0.32707559\n",
            "fetal_health                                              -0.22698518\n",
            "                                                       histogram_median\n",
            "baseline value                                               0.78924641\n",
            "accelerations                                                0.27284913\n",
            "fetal_movement                                              -0.07232949\n",
            "uterine_contractions                                        -0.14028741\n",
            "light_decelerations                                         -0.38858559\n",
            "severe_decelerations                                        -0.16045126\n",
            "prolongued_decelerations                                    -0.44477787\n",
            "abnormal_short_term_variability                              0.11996017\n",
            "mean_value_of_short_term_variability                        -0.33610928\n",
            "percentage_of_time_with_abnormal_long_term_variability       0.18648019\n",
            "mean_value_of_long_term_variability                          0.06322753\n",
            "histogram_width                                             -0.16885434\n",
            "histogram_min                                                0.40019105\n",
            "histogram_max                                                0.29267950\n",
            "histogram_number_of_peaks                                   -0.12284410\n",
            "histogram_number_of_zeroes                                  -0.05289640\n",
            "histogram_mode                                               0.93339916\n",
            "histogram_mean                                               0.94825134\n",
            "histogram_median                                             1.00000000\n",
            "histogram_variance                                          -0.29410467\n",
            "histogram_tendency                                           0.38920975\n",
            "fetal_health                                                -0.20503300\n",
            "                                                       histogram_variance\n",
            "baseline value                                                -0.13393805\n",
            "accelerations                                                  0.12570396\n",
            "fetal_movement                                                 0.17933965\n",
            "uterine_contractions                                           0.23858188\n",
            "light_decelerations                                            0.56428941\n",
            "severe_decelerations                                           0.13642052\n",
            "prolongued_decelerations                                       0.50330146\n",
            "abnormal_short_term_variability                               -0.14643382\n",
            "mean_value_of_short_term_variability                           0.55585244\n",
            "percentage_of_time_with_abnormal_long_term_variability        -0.28153615\n",
            "mean_value_of_long_term_variability                           -0.16407917\n",
            "histogram_width                                                0.61588381\n",
            "histogram_min                                                 -0.54509064\n",
            "histogram_max                                                  0.43909413\n",
            "histogram_number_of_peaks                                      0.45435398\n",
            "histogram_number_of_zeroes                                     0.19674688\n",
            "histogram_mode                                                -0.31276475\n",
            "histogram_mean                                                -0.39942323\n",
            "histogram_median                                              -0.29410467\n",
            "histogram_variance                                             1.00000000\n",
            "histogram_tendency                                            -0.07801258\n",
            "fetal_health                                                   0.20662962\n",
            "                                                       histogram_tendency\n",
            "baseline value                                               2.935035e-01\n",
            "accelerations                                                2.841984e-02\n",
            "fetal_movement                                              -1.541400e-03\n",
            "uterine_contractions                                        -7.231355e-02\n",
            "light_decelerations                                          7.161302e-05\n",
            "severe_decelerations                                        -7.048312e-02\n",
            "prolongued_decelerations                                    -2.154045e-01\n",
            "abnormal_short_term_variability                             -5.747923e-03\n",
            "mean_value_of_short_term_variability                        -6.613969e-02\n",
            "percentage_of_time_with_abnormal_long_term_variability       4.248124e-02\n",
            "mean_value_of_long_term_variability                          1.530930e-01\n",
            "histogram_width                                              1.181518e-01\n",
            "histogram_min                                               -2.425791e-01\n",
            "histogram_max                                               -1.431107e-01\n",
            "histogram_number_of_peaks                                    1.101141e-01\n",
            "histogram_number_of_zeroes                                   8.469422e-02\n",
            "histogram_mode                                               4.155639e-01\n",
            "histogram_mean                                               3.270756e-01\n",
            "histogram_median                                             3.892097e-01\n",
            "histogram_variance                                          -7.801258e-02\n",
            "histogram_tendency                                           1.000000e+00\n",
            "fetal_health                                                -1.319764e-01\n",
            "                                                       fetal_health\n",
            "baseline value                                           0.14815113\n",
            "accelerations                                           -0.36406579\n",
            "fetal_movement                                           0.08801001\n",
            "uterine_contractions                                    -0.20489372\n",
            "light_decelerations                                      0.05887049\n",
            "severe_decelerations                                     0.13193413\n",
            "prolongued_decelerations                                 0.48485919\n",
            "abnormal_short_term_variability                          0.47119075\n",
            "mean_value_of_short_term_variability                    -0.10338212\n",
            "percentage_of_time_with_abnormal_long_term_variability   0.42614642\n",
            "mean_value_of_long_term_variability                     -0.22679707\n",
            "histogram_width                                         -0.06878876\n",
            "histogram_min                                            0.06317491\n",
            "histogram_max                                           -0.04526537\n",
            "histogram_number_of_peaks                               -0.02366595\n",
            "histogram_number_of_zeroes                              -0.01668181\n",
            "histogram_mode                                          -0.25041181\n",
            "histogram_mean                                          -0.22698518\n",
            "histogram_median                                        -0.20503300\n",
            "histogram_variance                                       0.20662962\n",
            "histogram_tendency                                      -0.13197642\n",
            "fetal_health                                             1.00000000\n"
          ]
        }
      ]
    },
    {
      "cell_type": "code",
      "source": [
        "df1 <- df[, c(\"accelerations\", \"prolongued_decelerations\", \"abnormal_short_term_variability\", \"percentage_of_time_with_abnormal_long_term_variability\", \"fetal_health\")]"
      ],
      "metadata": {
        "id": "NueqZ3M4S-1l"
      },
      "execution_count": null,
      "outputs": []
    },
    {
      "cell_type": "code",
      "source": [
        "head(df1)"
      ],
      "metadata": {
        "colab": {
          "base_uri": "https://localhost:8080/",
          "height": 306
        },
        "id": "bqGhZgEzT5iC",
        "outputId": "a94ff324-5899-4688-b902-94a675177663"
      },
      "execution_count": null,
      "outputs": [
        {
          "output_type": "display_data",
          "data": {
            "text/plain": [
              "  accelerations prolongued_decelerations abnormal_short_term_variability\n",
              "1 0.000         0.000                    73                             \n",
              "2 0.006         0.000                    17                             \n",
              "3 0.003         0.000                    16                             \n",
              "4 0.003         0.000                    16                             \n",
              "5 0.007         0.000                    16                             \n",
              "6 0.001         0.002                    26                             \n",
              "  percentage_of_time_with_abnormal_long_term_variability fetal_health\n",
              "1 43                                                     2           \n",
              "2  0                                                     1           \n",
              "3  0                                                     1           \n",
              "4  0                                                     1           \n",
              "5  0                                                     1           \n",
              "6  0                                                     3           "
            ],
            "text/latex": "A tibble: 6 × 5\n\\begin{tabular}{lllll}\n accelerations & prolongued\\_decelerations & abnormal\\_short\\_term\\_variability & percentage\\_of\\_time\\_with\\_abnormal\\_long\\_term\\_variability & fetal\\_health\\\\\n <dbl> & <dbl> & <dbl> & <dbl> & <dbl>\\\\\n\\hline\n\t 0.000 & 0.000 & 73 & 43 & 2\\\\\n\t 0.006 & 0.000 & 17 &  0 & 1\\\\\n\t 0.003 & 0.000 & 16 &  0 & 1\\\\\n\t 0.003 & 0.000 & 16 &  0 & 1\\\\\n\t 0.007 & 0.000 & 16 &  0 & 1\\\\\n\t 0.001 & 0.002 & 26 &  0 & 3\\\\\n\\end{tabular}\n",
            "text/markdown": "\nA tibble: 6 × 5\n\n| accelerations &lt;dbl&gt; | prolongued_decelerations &lt;dbl&gt; | abnormal_short_term_variability &lt;dbl&gt; | percentage_of_time_with_abnormal_long_term_variability &lt;dbl&gt; | fetal_health &lt;dbl&gt; |\n|---|---|---|---|---|\n| 0.000 | 0.000 | 73 | 43 | 2 |\n| 0.006 | 0.000 | 17 |  0 | 1 |\n| 0.003 | 0.000 | 16 |  0 | 1 |\n| 0.003 | 0.000 | 16 |  0 | 1 |\n| 0.007 | 0.000 | 16 |  0 | 1 |\n| 0.001 | 0.002 | 26 |  0 | 3 |\n\n",
            "text/html": [
              "<table class=\"dataframe\">\n",
              "<caption>A tibble: 6 × 5</caption>\n",
              "<thead>\n",
              "\t<tr><th scope=col>accelerations</th><th scope=col>prolongued_decelerations</th><th scope=col>abnormal_short_term_variability</th><th scope=col>percentage_of_time_with_abnormal_long_term_variability</th><th scope=col>fetal_health</th></tr>\n",
              "\t<tr><th scope=col>&lt;dbl&gt;</th><th scope=col>&lt;dbl&gt;</th><th scope=col>&lt;dbl&gt;</th><th scope=col>&lt;dbl&gt;</th><th scope=col>&lt;dbl&gt;</th></tr>\n",
              "</thead>\n",
              "<tbody>\n",
              "\t<tr><td>0.000</td><td>0.000</td><td>73</td><td>43</td><td>2</td></tr>\n",
              "\t<tr><td>0.006</td><td>0.000</td><td>17</td><td> 0</td><td>1</td></tr>\n",
              "\t<tr><td>0.003</td><td>0.000</td><td>16</td><td> 0</td><td>1</td></tr>\n",
              "\t<tr><td>0.003</td><td>0.000</td><td>16</td><td> 0</td><td>1</td></tr>\n",
              "\t<tr><td>0.007</td><td>0.000</td><td>16</td><td> 0</td><td>1</td></tr>\n",
              "\t<tr><td>0.001</td><td>0.002</td><td>26</td><td> 0</td><td>3</td></tr>\n",
              "</tbody>\n",
              "</table>\n"
            ]
          },
          "metadata": {}
        }
      ]
    },
    {
      "cell_type": "code",
      "source": [
        "unique(df1[c(\"fetal_health\")])"
      ],
      "metadata": {
        "colab": {
          "base_uri": "https://localhost:8080/",
          "height": 192
        },
        "id": "_UwpWc9KUfvO",
        "outputId": "8c27ecc6-9b29-41a5-a972-350107a87d4b"
      },
      "execution_count": null,
      "outputs": [
        {
          "output_type": "display_data",
          "data": {
            "text/plain": [
              "  fetal_health\n",
              "1 2           \n",
              "2 1           \n",
              "3 3           "
            ],
            "text/latex": "A tibble: 3 × 1\n\\begin{tabular}{l}\n fetal\\_health\\\\\n <dbl>\\\\\n\\hline\n\t 2\\\\\n\t 1\\\\\n\t 3\\\\\n\\end{tabular}\n",
            "text/markdown": "\nA tibble: 3 × 1\n\n| fetal_health &lt;dbl&gt; |\n|---|\n| 2 |\n| 1 |\n| 3 |\n\n",
            "text/html": [
              "<table class=\"dataframe\">\n",
              "<caption>A tibble: 3 × 1</caption>\n",
              "<thead>\n",
              "\t<tr><th scope=col>fetal_health</th></tr>\n",
              "\t<tr><th scope=col>&lt;dbl&gt;</th></tr>\n",
              "</thead>\n",
              "<tbody>\n",
              "\t<tr><td>2</td></tr>\n",
              "\t<tr><td>1</td></tr>\n",
              "\t<tr><td>3</td></tr>\n",
              "</tbody>\n",
              "</table>\n"
            ]
          },
          "metadata": {}
        }
      ]
    },
    {
      "cell_type": "code",
      "source": [
        "df1$fetal_health = factor(df1$fetal_health, levels = c(1, 2, 3))"
      ],
      "metadata": {
        "id": "WP3ZM9hRUrbC"
      },
      "execution_count": null,
      "outputs": []
    },
    {
      "cell_type": "code",
      "source": [
        "install.packages('caTools')"
      ],
      "metadata": {
        "colab": {
          "base_uri": "https://localhost:8080/"
        },
        "id": "-SWhRbTAT8I7",
        "outputId": "0fee1fcf-c637-4068-a6c2-c0e3b9f77152"
      },
      "execution_count": null,
      "outputs": [
        {
          "output_type": "stream",
          "name": "stderr",
          "text": [
            "Installing package into ‘/usr/local/lib/R/site-library’\n",
            "(as ‘lib’ is unspecified)\n",
            "\n",
            "also installing the dependency ‘bitops’\n",
            "\n",
            "\n"
          ]
        }
      ]
    },
    {
      "cell_type": "code",
      "source": [
        "library(caTools)\n",
        "\n",
        "set.seed(42)\n",
        "split = sample.split(df1$fetal_health, SplitRatio = 0.70)\n",
        "\n",
        "training_set = subset(df1, split == TRUE)\n",
        "test_set = subset(df1, split == FALSE)"
      ],
      "metadata": {
        "id": "P9sJCL-zVI4l"
      },
      "execution_count": null,
      "outputs": []
    },
    {
      "cell_type": "code",
      "source": [
        "head(training_set)"
      ],
      "metadata": {
        "colab": {
          "base_uri": "https://localhost:8080/",
          "height": 306
        },
        "id": "vZVw3oc1V3Ue",
        "outputId": "4ade89f4-ab3c-4259-f094-28a77c4840c9"
      },
      "execution_count": null,
      "outputs": [
        {
          "output_type": "display_data",
          "data": {
            "text/plain": [
              "  accelerations prolongued_decelerations abnormal_short_term_variability\n",
              "1 0.006         0.000                    17                             \n",
              "2 0.003         0.000                    16                             \n",
              "3 0.007         0.000                    16                             \n",
              "4 0.001         0.002                    26                             \n",
              "5 0.000         0.000                    86                             \n",
              "6 0.000         0.000                    64                             \n",
              "  percentage_of_time_with_abnormal_long_term_variability fetal_health\n",
              "1 0                                                      1           \n",
              "2 0                                                      1           \n",
              "3 0                                                      1           \n",
              "4 0                                                      3           \n",
              "5 6                                                      3           \n",
              "6 8                                                      2           "
            ],
            "text/latex": "A tibble: 6 × 5\n\\begin{tabular}{lllll}\n accelerations & prolongued\\_decelerations & abnormal\\_short\\_term\\_variability & percentage\\_of\\_time\\_with\\_abnormal\\_long\\_term\\_variability & fetal\\_health\\\\\n <dbl> & <dbl> & <dbl> & <dbl> & <fct>\\\\\n\\hline\n\t 0.006 & 0.000 & 17 & 0 & 1\\\\\n\t 0.003 & 0.000 & 16 & 0 & 1\\\\\n\t 0.007 & 0.000 & 16 & 0 & 1\\\\\n\t 0.001 & 0.002 & 26 & 0 & 3\\\\\n\t 0.000 & 0.000 & 86 & 6 & 3\\\\\n\t 0.000 & 0.000 & 64 & 8 & 2\\\\\n\\end{tabular}\n",
            "text/markdown": "\nA tibble: 6 × 5\n\n| accelerations &lt;dbl&gt; | prolongued_decelerations &lt;dbl&gt; | abnormal_short_term_variability &lt;dbl&gt; | percentage_of_time_with_abnormal_long_term_variability &lt;dbl&gt; | fetal_health &lt;fct&gt; |\n|---|---|---|---|---|\n| 0.006 | 0.000 | 17 | 0 | 1 |\n| 0.003 | 0.000 | 16 | 0 | 1 |\n| 0.007 | 0.000 | 16 | 0 | 1 |\n| 0.001 | 0.002 | 26 | 0 | 3 |\n| 0.000 | 0.000 | 86 | 6 | 3 |\n| 0.000 | 0.000 | 64 | 8 | 2 |\n\n",
            "text/html": [
              "<table class=\"dataframe\">\n",
              "<caption>A tibble: 6 × 5</caption>\n",
              "<thead>\n",
              "\t<tr><th scope=col>accelerations</th><th scope=col>prolongued_decelerations</th><th scope=col>abnormal_short_term_variability</th><th scope=col>percentage_of_time_with_abnormal_long_term_variability</th><th scope=col>fetal_health</th></tr>\n",
              "\t<tr><th scope=col>&lt;dbl&gt;</th><th scope=col>&lt;dbl&gt;</th><th scope=col>&lt;dbl&gt;</th><th scope=col>&lt;dbl&gt;</th><th scope=col>&lt;fct&gt;</th></tr>\n",
              "</thead>\n",
              "<tbody>\n",
              "\t<tr><td>0.006</td><td>0.000</td><td>17</td><td>0</td><td>1</td></tr>\n",
              "\t<tr><td>0.003</td><td>0.000</td><td>16</td><td>0</td><td>1</td></tr>\n",
              "\t<tr><td>0.007</td><td>0.000</td><td>16</td><td>0</td><td>1</td></tr>\n",
              "\t<tr><td>0.001</td><td>0.002</td><td>26</td><td>0</td><td>3</td></tr>\n",
              "\t<tr><td>0.000</td><td>0.000</td><td>86</td><td>6</td><td>3</td></tr>\n",
              "\t<tr><td>0.000</td><td>0.000</td><td>64</td><td>8</td><td>2</td></tr>\n",
              "</tbody>\n",
              "</table>\n"
            ]
          },
          "metadata": {}
        }
      ]
    },
    {
      "cell_type": "code",
      "source": [
        "head(test_set)"
      ],
      "metadata": {
        "colab": {
          "base_uri": "https://localhost:8080/",
          "height": 306
        },
        "id": "q4QOUVPiV7LI",
        "outputId": "60035471-65e6-400f-a6fa-eeab5ee824b1"
      },
      "execution_count": null,
      "outputs": [
        {
          "output_type": "display_data",
          "data": {
            "text/plain": [
              "  accelerations prolongued_decelerations abnormal_short_term_variability\n",
              "1 0.000         0.000                    73                             \n",
              "2 0.003         0.000                    16                             \n",
              "3 0.001         0.003                    29                             \n",
              "4 0.000         0.000                    83                             \n",
              "5 0.000         0.000                    84                             \n",
              "6 0.000         0.000                    64                             \n",
              "  percentage_of_time_with_abnormal_long_term_variability fetal_health\n",
              "1 43                                                     2           \n",
              "2  0                                                     1           \n",
              "3  0                                                     3           \n",
              "4  6                                                     3           \n",
              "5  5                                                     3           \n",
              "6  9                                                     2           "
            ],
            "text/latex": "A tibble: 6 × 5\n\\begin{tabular}{lllll}\n accelerations & prolongued\\_decelerations & abnormal\\_short\\_term\\_variability & percentage\\_of\\_time\\_with\\_abnormal\\_long\\_term\\_variability & fetal\\_health\\\\\n <dbl> & <dbl> & <dbl> & <dbl> & <fct>\\\\\n\\hline\n\t 0.000 & 0.000 & 73 & 43 & 2\\\\\n\t 0.003 & 0.000 & 16 &  0 & 1\\\\\n\t 0.001 & 0.003 & 29 &  0 & 3\\\\\n\t 0.000 & 0.000 & 83 &  6 & 3\\\\\n\t 0.000 & 0.000 & 84 &  5 & 3\\\\\n\t 0.000 & 0.000 & 64 &  9 & 2\\\\\n\\end{tabular}\n",
            "text/markdown": "\nA tibble: 6 × 5\n\n| accelerations &lt;dbl&gt; | prolongued_decelerations &lt;dbl&gt; | abnormal_short_term_variability &lt;dbl&gt; | percentage_of_time_with_abnormal_long_term_variability &lt;dbl&gt; | fetal_health &lt;fct&gt; |\n|---|---|---|---|---|\n| 0.000 | 0.000 | 73 | 43 | 2 |\n| 0.003 | 0.000 | 16 |  0 | 1 |\n| 0.001 | 0.003 | 29 |  0 | 3 |\n| 0.000 | 0.000 | 83 |  6 | 3 |\n| 0.000 | 0.000 | 84 |  5 | 3 |\n| 0.000 | 0.000 | 64 |  9 | 2 |\n\n",
            "text/html": [
              "<table class=\"dataframe\">\n",
              "<caption>A tibble: 6 × 5</caption>\n",
              "<thead>\n",
              "\t<tr><th scope=col>accelerations</th><th scope=col>prolongued_decelerations</th><th scope=col>abnormal_short_term_variability</th><th scope=col>percentage_of_time_with_abnormal_long_term_variability</th><th scope=col>fetal_health</th></tr>\n",
              "\t<tr><th scope=col>&lt;dbl&gt;</th><th scope=col>&lt;dbl&gt;</th><th scope=col>&lt;dbl&gt;</th><th scope=col>&lt;dbl&gt;</th><th scope=col>&lt;fct&gt;</th></tr>\n",
              "</thead>\n",
              "<tbody>\n",
              "\t<tr><td>0.000</td><td>0.000</td><td>73</td><td>43</td><td>2</td></tr>\n",
              "\t<tr><td>0.003</td><td>0.000</td><td>16</td><td> 0</td><td>1</td></tr>\n",
              "\t<tr><td>0.001</td><td>0.003</td><td>29</td><td> 0</td><td>3</td></tr>\n",
              "\t<tr><td>0.000</td><td>0.000</td><td>83</td><td> 6</td><td>3</td></tr>\n",
              "\t<tr><td>0.000</td><td>0.000</td><td>84</td><td> 5</td><td>3</td></tr>\n",
              "\t<tr><td>0.000</td><td>0.000</td><td>64</td><td> 9</td><td>2</td></tr>\n",
              "</tbody>\n",
              "</table>\n"
            ]
          },
          "metadata": {}
        }
      ]
    },
    {
      "cell_type": "code",
      "source": [
        "training_set[-5] = scale(training_set[-5])\n",
        "test_set[-5] = scale(test_set[-5])"
      ],
      "metadata": {
        "id": "zcrigyU4WCfj"
      },
      "execution_count": null,
      "outputs": []
    },
    {
      "cell_type": "code",
      "source": [
        "install.packages('e1071')"
      ],
      "metadata": {
        "colab": {
          "base_uri": "https://localhost:8080/"
        },
        "id": "mQ2-MzbqWlQX",
        "outputId": "23356fff-92a0-4406-aeed-6e434915653c"
      },
      "execution_count": null,
      "outputs": [
        {
          "output_type": "stream",
          "name": "stderr",
          "text": [
            "Installing package into ‘/usr/local/lib/R/site-library’\n",
            "(as ‘lib’ is unspecified)\n",
            "\n",
            "also installing the dependency ‘proxy’\n",
            "\n",
            "\n"
          ]
        }
      ]
    },
    {
      "cell_type": "code",
      "source": [
        "library(e1071)\n",
        "\n",
        "classifier = svm(formula = fetal_health ~. ,\n",
        "                  data = training_set,\n",
        "                  type = 'C-classification',\n",
        "                  kernel = 'linear' )"
      ],
      "metadata": {
        "id": "7ONL-dXkWtYJ"
      },
      "execution_count": null,
      "outputs": []
    },
    {
      "cell_type": "code",
      "source": [
        "?svm()"
      ],
      "metadata": {
        "id": "bR85cGynXSzn"
      },
      "execution_count": null,
      "outputs": []
    },
    {
      "cell_type": "code",
      "source": [
        "y_pred = predict(classifier, newdata = test_set[-5])"
      ],
      "metadata": {
        "id": "1EcNfjQtXWzN"
      },
      "execution_count": null,
      "outputs": []
    },
    {
      "cell_type": "code",
      "source": [
        "typeof(y_pred)"
      ],
      "metadata": {
        "colab": {
          "base_uri": "https://localhost:8080/",
          "height": 35
        },
        "id": "r9s9t3vBXpEA",
        "outputId": "1538b9da-2cb7-4886-cd06-54dfdd5e275c"
      },
      "execution_count": null,
      "outputs": [
        {
          "output_type": "display_data",
          "data": {
            "text/plain": [
              "[1] \"integer\""
            ],
            "text/latex": "'integer'",
            "text/markdown": "'integer'",
            "text/html": [
              "'integer'"
            ]
          },
          "metadata": {}
        }
      ]
    },
    {
      "cell_type": "code",
      "source": [
        "y_pred = data.frame(y_pred)"
      ],
      "metadata": {
        "id": "lFYMe3pKXsiZ"
      },
      "execution_count": null,
      "outputs": []
    },
    {
      "cell_type": "code",
      "source": [
        "y_pred"
      ],
      "metadata": {
        "colab": {
          "base_uri": "https://localhost:8080/",
          "height": 1000
        },
        "id": "VNX7L5tHXvOM",
        "outputId": "8ad84640-81ab-4223-a807-57d64f26124c"
      },
      "execution_count": null,
      "outputs": [
        {
          "output_type": "display_data",
          "data": {
            "text/plain": [
              "    y_pred\n",
              "1   2     \n",
              "2   1     \n",
              "3   3     \n",
              "4   1     \n",
              "5   1     \n",
              "6   1     \n",
              "7   1     \n",
              "8   1     \n",
              "9   1     \n",
              "10  1     \n",
              "11  2     \n",
              "12  1     \n",
              "13  1     \n",
              "14  1     \n",
              "15  1     \n",
              "16  1     \n",
              "17  1     \n",
              "18  1     \n",
              "19  1     \n",
              "20  2     \n",
              "21  1     \n",
              "22  1     \n",
              "23  1     \n",
              "24  1     \n",
              "25  1     \n",
              "26  1     \n",
              "27  1     \n",
              "28  1     \n",
              "29  1     \n",
              "30  2     \n",
              "⋮   ⋮     \n",
              "610 2     \n",
              "611 2     \n",
              "612 2     \n",
              "613 2     \n",
              "614 2     \n",
              "615 2     \n",
              "616 1     \n",
              "617 1     \n",
              "618 1     \n",
              "619 1     \n",
              "620 1     \n",
              "621 1     \n",
              "622 1     \n",
              "623 1     \n",
              "624 2     \n",
              "625 2     \n",
              "626 2     \n",
              "627 2     \n",
              "628 2     \n",
              "629 2     \n",
              "630 2     \n",
              "631 2     \n",
              "632 1     \n",
              "633 1     \n",
              "634 2     \n",
              "635 3     \n",
              "636 2     \n",
              "637 2     \n",
              "638 2     \n",
              "639 2     "
            ],
            "text/latex": "A data.frame: 639 × 1\n\\begin{tabular}{r|l}\n  & y\\_pred\\\\\n  & <fct>\\\\\n\\hline\n\t1 & 2\\\\\n\t2 & 1\\\\\n\t3 & 3\\\\\n\t4 & 1\\\\\n\t5 & 1\\\\\n\t6 & 1\\\\\n\t7 & 1\\\\\n\t8 & 1\\\\\n\t9 & 1\\\\\n\t10 & 1\\\\\n\t11 & 2\\\\\n\t12 & 1\\\\\n\t13 & 1\\\\\n\t14 & 1\\\\\n\t15 & 1\\\\\n\t16 & 1\\\\\n\t17 & 1\\\\\n\t18 & 1\\\\\n\t19 & 1\\\\\n\t20 & 2\\\\\n\t21 & 1\\\\\n\t22 & 1\\\\\n\t23 & 1\\\\\n\t24 & 1\\\\\n\t25 & 1\\\\\n\t26 & 1\\\\\n\t27 & 1\\\\\n\t28 & 1\\\\\n\t29 & 1\\\\\n\t30 & 2\\\\\n\t⋮ & ⋮\\\\\n\t610 & 2\\\\\n\t611 & 2\\\\\n\t612 & 2\\\\\n\t613 & 2\\\\\n\t614 & 2\\\\\n\t615 & 2\\\\\n\t616 & 1\\\\\n\t617 & 1\\\\\n\t618 & 1\\\\\n\t619 & 1\\\\\n\t620 & 1\\\\\n\t621 & 1\\\\\n\t622 & 1\\\\\n\t623 & 1\\\\\n\t624 & 2\\\\\n\t625 & 2\\\\\n\t626 & 2\\\\\n\t627 & 2\\\\\n\t628 & 2\\\\\n\t629 & 2\\\\\n\t630 & 2\\\\\n\t631 & 2\\\\\n\t632 & 1\\\\\n\t633 & 1\\\\\n\t634 & 2\\\\\n\t635 & 3\\\\\n\t636 & 2\\\\\n\t637 & 2\\\\\n\t638 & 2\\\\\n\t639 & 2\\\\\n\\end{tabular}\n",
            "text/markdown": "\nA data.frame: 639 × 1\n\n| <!--/--> | y_pred &lt;fct&gt; |\n|---|---|\n| 1 | 2 |\n| 2 | 1 |\n| 3 | 3 |\n| 4 | 1 |\n| 5 | 1 |\n| 6 | 1 |\n| 7 | 1 |\n| 8 | 1 |\n| 9 | 1 |\n| 10 | 1 |\n| 11 | 2 |\n| 12 | 1 |\n| 13 | 1 |\n| 14 | 1 |\n| 15 | 1 |\n| 16 | 1 |\n| 17 | 1 |\n| 18 | 1 |\n| 19 | 1 |\n| 20 | 2 |\n| 21 | 1 |\n| 22 | 1 |\n| 23 | 1 |\n| 24 | 1 |\n| 25 | 1 |\n| 26 | 1 |\n| 27 | 1 |\n| 28 | 1 |\n| 29 | 1 |\n| 30 | 2 |\n| ⋮ | ⋮ |\n| 610 | 2 |\n| 611 | 2 |\n| 612 | 2 |\n| 613 | 2 |\n| 614 | 2 |\n| 615 | 2 |\n| 616 | 1 |\n| 617 | 1 |\n| 618 | 1 |\n| 619 | 1 |\n| 620 | 1 |\n| 621 | 1 |\n| 622 | 1 |\n| 623 | 1 |\n| 624 | 2 |\n| 625 | 2 |\n| 626 | 2 |\n| 627 | 2 |\n| 628 | 2 |\n| 629 | 2 |\n| 630 | 2 |\n| 631 | 2 |\n| 632 | 1 |\n| 633 | 1 |\n| 634 | 2 |\n| 635 | 3 |\n| 636 | 2 |\n| 637 | 2 |\n| 638 | 2 |\n| 639 | 2 |\n\n",
            "text/html": [
              "<table class=\"dataframe\">\n",
              "<caption>A data.frame: 639 × 1</caption>\n",
              "<thead>\n",
              "\t<tr><th></th><th scope=col>y_pred</th></tr>\n",
              "\t<tr><th></th><th scope=col>&lt;fct&gt;</th></tr>\n",
              "</thead>\n",
              "<tbody>\n",
              "\t<tr><th scope=row>1</th><td>2</td></tr>\n",
              "\t<tr><th scope=row>2</th><td>1</td></tr>\n",
              "\t<tr><th scope=row>3</th><td>3</td></tr>\n",
              "\t<tr><th scope=row>4</th><td>1</td></tr>\n",
              "\t<tr><th scope=row>5</th><td>1</td></tr>\n",
              "\t<tr><th scope=row>6</th><td>1</td></tr>\n",
              "\t<tr><th scope=row>7</th><td>1</td></tr>\n",
              "\t<tr><th scope=row>8</th><td>1</td></tr>\n",
              "\t<tr><th scope=row>9</th><td>1</td></tr>\n",
              "\t<tr><th scope=row>10</th><td>1</td></tr>\n",
              "\t<tr><th scope=row>11</th><td>2</td></tr>\n",
              "\t<tr><th scope=row>12</th><td>1</td></tr>\n",
              "\t<tr><th scope=row>13</th><td>1</td></tr>\n",
              "\t<tr><th scope=row>14</th><td>1</td></tr>\n",
              "\t<tr><th scope=row>15</th><td>1</td></tr>\n",
              "\t<tr><th scope=row>16</th><td>1</td></tr>\n",
              "\t<tr><th scope=row>17</th><td>1</td></tr>\n",
              "\t<tr><th scope=row>18</th><td>1</td></tr>\n",
              "\t<tr><th scope=row>19</th><td>1</td></tr>\n",
              "\t<tr><th scope=row>20</th><td>2</td></tr>\n",
              "\t<tr><th scope=row>21</th><td>1</td></tr>\n",
              "\t<tr><th scope=row>22</th><td>1</td></tr>\n",
              "\t<tr><th scope=row>23</th><td>1</td></tr>\n",
              "\t<tr><th scope=row>24</th><td>1</td></tr>\n",
              "\t<tr><th scope=row>25</th><td>1</td></tr>\n",
              "\t<tr><th scope=row>26</th><td>1</td></tr>\n",
              "\t<tr><th scope=row>27</th><td>1</td></tr>\n",
              "\t<tr><th scope=row>28</th><td>1</td></tr>\n",
              "\t<tr><th scope=row>29</th><td>1</td></tr>\n",
              "\t<tr><th scope=row>30</th><td>2</td></tr>\n",
              "\t<tr><th scope=row>⋮</th><td>⋮</td></tr>\n",
              "\t<tr><th scope=row>610</th><td>2</td></tr>\n",
              "\t<tr><th scope=row>611</th><td>2</td></tr>\n",
              "\t<tr><th scope=row>612</th><td>2</td></tr>\n",
              "\t<tr><th scope=row>613</th><td>2</td></tr>\n",
              "\t<tr><th scope=row>614</th><td>2</td></tr>\n",
              "\t<tr><th scope=row>615</th><td>2</td></tr>\n",
              "\t<tr><th scope=row>616</th><td>1</td></tr>\n",
              "\t<tr><th scope=row>617</th><td>1</td></tr>\n",
              "\t<tr><th scope=row>618</th><td>1</td></tr>\n",
              "\t<tr><th scope=row>619</th><td>1</td></tr>\n",
              "\t<tr><th scope=row>620</th><td>1</td></tr>\n",
              "\t<tr><th scope=row>621</th><td>1</td></tr>\n",
              "\t<tr><th scope=row>622</th><td>1</td></tr>\n",
              "\t<tr><th scope=row>623</th><td>1</td></tr>\n",
              "\t<tr><th scope=row>624</th><td>2</td></tr>\n",
              "\t<tr><th scope=row>625</th><td>2</td></tr>\n",
              "\t<tr><th scope=row>626</th><td>2</td></tr>\n",
              "\t<tr><th scope=row>627</th><td>2</td></tr>\n",
              "\t<tr><th scope=row>628</th><td>2</td></tr>\n",
              "\t<tr><th scope=row>629</th><td>2</td></tr>\n",
              "\t<tr><th scope=row>630</th><td>2</td></tr>\n",
              "\t<tr><th scope=row>631</th><td>2</td></tr>\n",
              "\t<tr><th scope=row>632</th><td>1</td></tr>\n",
              "\t<tr><th scope=row>633</th><td>1</td></tr>\n",
              "\t<tr><th scope=row>634</th><td>2</td></tr>\n",
              "\t<tr><th scope=row>635</th><td>3</td></tr>\n",
              "\t<tr><th scope=row>636</th><td>2</td></tr>\n",
              "\t<tr><th scope=row>637</th><td>2</td></tr>\n",
              "\t<tr><th scope=row>638</th><td>2</td></tr>\n",
              "\t<tr><th scope=row>639</th><td>2</td></tr>\n",
              "</tbody>\n",
              "</table>\n"
            ]
          },
          "metadata": {}
        }
      ]
    },
    {
      "cell_type": "code",
      "source": [
        "Final = data.frame(c(test_set, y_pred))"
      ],
      "metadata": {
        "id": "pnNnwEQbX5DY"
      },
      "execution_count": null,
      "outputs": []
    },
    {
      "cell_type": "code",
      "source": [
        "Final"
      ],
      "metadata": {
        "id": "820AjS_mYH8h"
      },
      "execution_count": null,
      "outputs": []
    },
    {
      "cell_type": "code",
      "source": [
        "table(Final[, 6], Final[, 5])"
      ],
      "metadata": {
        "colab": {
          "base_uri": "https://localhost:8080/",
          "height": 104
        },
        "id": "H7ZwE1MoYJFJ",
        "outputId": "7e2d0c32-d1e8-46fb-a52c-c72924217f07"
      },
      "execution_count": null,
      "outputs": [
        {
          "output_type": "display_data",
          "data": {
            "text/plain": [
              "   \n",
              "      1   2   3\n",
              "  1 467  46   8\n",
              "  2  21  42  23\n",
              "  3   9   1  22"
            ]
          },
          "metadata": {}
        }
      ]
    },
    {
      "cell_type": "code",
      "source": [
        "install.packages('caret')"
      ],
      "metadata": {
        "colab": {
          "base_uri": "https://localhost:8080/"
        },
        "id": "LfmcqvgiYv1Z",
        "outputId": "4670b933-dee3-4798-8ad4-7faa41ec048b"
      },
      "execution_count": null,
      "outputs": [
        {
          "output_type": "stream",
          "name": "stderr",
          "text": [
            "Installing package into ‘/usr/local/lib/R/site-library’\n",
            "(as ‘lib’ is unspecified)\n",
            "\n",
            "also installing the dependencies ‘listenv’, ‘parallelly’, ‘future’, ‘globals’, ‘future.apply’, ‘progressr’, ‘numDeriv’, ‘SQUAREM’, ‘lava’, ‘prodlim’, ‘iterators’, ‘gower’, ‘ipred’, ‘timeDate’, ‘foreach’, ‘ModelMetrics’, ‘plyr’, ‘pROC’, ‘recipes’, ‘reshape2’\n",
            "\n",
            "\n"
          ]
        }
      ]
    },
    {
      "cell_type": "code",
      "source": [
        "library(caret)\n",
        "confusionMatrix(Final[, 6], Final[, 5], positive = \"pos\")"
      ],
      "metadata": {
        "colab": {
          "base_uri": "https://localhost:8080/",
          "height": 729
        },
        "id": "tMo-J8RMZBcx",
        "outputId": "eed92ea5-947b-4234-a223-613c1f058b11"
      },
      "execution_count": null,
      "outputs": [
        {
          "output_type": "stream",
          "name": "stderr",
          "text": [
            "Loading required package: lattice\n",
            "\n",
            "\n",
            "Attaching package: ‘caret’\n",
            "\n",
            "\n",
            "The following object is masked from ‘package:purrr’:\n",
            "\n",
            "    lift\n",
            "\n",
            "\n"
          ]
        },
        {
          "output_type": "display_data",
          "data": {
            "text/plain": [
              "Confusion Matrix and Statistics\n",
              "\n",
              "          Reference\n",
              "Prediction   1   2   3\n",
              "         1 467  46   8\n",
              "         2  21  42  23\n",
              "         3   9   1  22\n",
              "\n",
              "Overall Statistics\n",
              "                                          \n",
              "               Accuracy : 0.831           \n",
              "                 95% CI : (0.7996, 0.8592)\n",
              "    No Information Rate : 0.7778          \n",
              "    P-Value [Acc > NIR] : 0.0005196       \n",
              "                                          \n",
              "                  Kappa : 0.5072          \n",
              "                                          \n",
              " Mcnemar's Test P-Value : 1.713e-06       \n",
              "\n",
              "Statistics by Class:\n",
              "\n",
              "                     Class: 1 Class: 2 Class: 3\n",
              "Sensitivity            0.9396  0.47191  0.41509\n",
              "Specificity            0.6197  0.92000  0.98294\n",
              "Pos Pred Value         0.8964  0.48837  0.68750\n",
              "Neg Pred Value         0.7458  0.91501  0.94893\n",
              "Prevalence             0.7778  0.13928  0.08294\n",
              "Detection Rate         0.7308  0.06573  0.03443\n",
              "Detection Prevalence   0.8153  0.13459  0.05008\n",
              "Balanced Accuracy      0.7797  0.69596  0.69901"
            ]
          },
          "metadata": {}
        }
      ]
    }
  ]
}